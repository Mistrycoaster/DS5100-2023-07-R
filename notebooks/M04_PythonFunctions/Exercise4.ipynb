{
 "cells": [
  {
   "cell_type": "markdown",
   "id": "97962ade-9851-4d5a-8bdd-f13d3da929c5",
   "metadata": {},
   "source": [
    "## Exercise 4.1"
   ]
  },
  {
   "cell_type": "code",
   "execution_count": 1,
   "id": "57fbf2a6-559a-441f-b5e2-f33f99f4ce7d",
   "metadata": {
    "tags": []
   },
   "outputs": [],
   "source": [
    "def is_this_text_the_right_length (text,r):\n",
    "    '''\n",
    "    This function assess whether a certain text is a certain length.\n",
    "    \n",
    "    Input:\n",
    "    text: the str that is used to be evaluated.\n",
    "    r: the length the text needs to be.\n",
    "    \n",
    "    Output:\n",
    "    True or False\n",
    "    '''\n",
    "    return len(text) == r\n",
    "    "
   ]
  },
  {
   "cell_type": "code",
   "execution_count": null,
   "id": "701951f5-81ec-4680-927a-438c6872168a",
   "metadata": {},
   "outputs": [],
   "source": [
    "txt = \"Hello World!\"\n",
    "is_this_text"
   ]
  },
  {
   "cell_type": "markdown",
   "id": "5f3aa2f8-2599-4854-810f-eb680c93bbc7",
   "metadata": {},
   "source": [
    "## Exercise 4.2"
   ]
  },
  {
   "cell_type": "code",
   "execution_count": 4,
   "id": "5706c6d6-a4e4-4192-ab97-9b3a913e6be8",
   "metadata": {
    "tags": []
   },
   "outputs": [],
   "source": [
    "def square_args(*vars):\n",
    "    for var in vars:\n",
    "        print(var**2)\n",
    "    return none"
   ]
  },
  {
   "cell_type": "code",
   "execution_count": 5,
   "id": "d2b73a93-9882-4e93-8f3b-be4b38f96294",
   "metadata": {
    "tags": []
   },
   "outputs": [
    {
     "name": "stdout",
     "output_type": "stream",
     "text": [
      "4\n",
      "9\n",
      "64\n"
     ]
    },
    {
     "ename": "NameError",
     "evalue": "name 'none' is not defined",
     "output_type": "error",
     "traceback": [
      "\u001b[1;31m---------------------------------------------------------------------------\u001b[0m",
      "\u001b[1;31mNameError\u001b[0m                                 Traceback (most recent call last)",
      "Cell \u001b[1;32mIn[5], line 1\u001b[0m\n\u001b[1;32m----> 1\u001b[0m \u001b[43msquare_args\u001b[49m\u001b[43m(\u001b[49m\u001b[38;5;241;43m2\u001b[39;49m\u001b[43m,\u001b[49m\u001b[38;5;241;43m3\u001b[39;49m\u001b[43m,\u001b[49m\u001b[38;5;241;43m8\u001b[39;49m\u001b[43m)\u001b[49m\n",
      "Cell \u001b[1;32mIn[4], line 4\u001b[0m, in \u001b[0;36msquare_args\u001b[1;34m(*vars)\u001b[0m\n\u001b[0;32m      2\u001b[0m \u001b[38;5;28;01mfor\u001b[39;00m var \u001b[38;5;129;01min\u001b[39;00m \u001b[38;5;28mvars\u001b[39m:\n\u001b[0;32m      3\u001b[0m     \u001b[38;5;28mprint\u001b[39m(var\u001b[38;5;241m*\u001b[39m\u001b[38;5;241m*\u001b[39m\u001b[38;5;241m2\u001b[39m)\n\u001b[1;32m----> 4\u001b[0m \u001b[38;5;28;01mreturn\u001b[39;00m \u001b[43mnone\u001b[49m\n",
      "\u001b[1;31mNameError\u001b[0m: name 'none' is not defined"
     ]
    }
   ],
   "source": [
    "square_args(2,3,8)"
   ]
  },
  {
   "cell_type": "markdown",
   "id": "017aac91-cd0d-4b06-a8f0-f3017a805ace",
   "metadata": {},
   "source": [
    "## Exercise 4.3"
   ]
  },
  {
   "cell_type": "code",
   "execution_count": 11,
   "id": "3ffef0bf-f9ce-4571-870b-5d97688c5ace",
   "metadata": {
    "tags": []
   },
   "outputs": [],
   "source": [
    "def word_shortener(text):\n",
    "    if len(text) < 3:\n",
    "        \"too short of a word\"\n",
    "    else:\n",
    "        first = text[0].upper()\n",
    "        last = text[-1].upper()\n",
    "        middle = len(text)-2\n",
    "        answer = first + str(middle) + last\n",
    "    return answer"
   ]
  },
  {
   "cell_type": "code",
   "execution_count": 12,
   "id": "fb224b70-7f00-433d-bfeb-95fb4c4aaf9c",
   "metadata": {
    "tags": []
   },
   "outputs": [
    {
     "data": {
      "text/plain": [
       "'L10N'"
      ]
     },
     "execution_count": 12,
     "metadata": {},
     "output_type": "execute_result"
    }
   ],
   "source": [
    "word_shortener(\"localization\")"
   ]
  },
  {
   "cell_type": "markdown",
   "id": "7cc87c9d-3dad-432a-88d3-53fbbe21ccdd",
   "metadata": {},
   "source": [
    "## Exercise 4.4"
   ]
  },
  {
   "cell_type": "code",
   "execution_count": 13,
   "id": "e71dd8b5-1649-4c14-b656-2d4d9f186082",
   "metadata": {
    "tags": []
   },
   "outputs": [],
   "source": [
    "def diff_nonneg(x):\n",
    "    n = x-5\n",
    "    if n >= 0:\n",
    "        return 1\n",
    "    return 0"
   ]
  },
  {
   "cell_type": "code",
   "execution_count": 15,
   "id": "4f31b674-1a69-4823-9f9a-06062b8e1d74",
   "metadata": {
    "tags": []
   },
   "outputs": [
    {
     "data": {
      "text/plain": [
       "1"
      ]
     },
     "execution_count": 15,
     "metadata": {},
     "output_type": "execute_result"
    }
   ],
   "source": [
    "diff_nonneg(6)"
   ]
  },
  {
   "cell_type": "markdown",
   "id": "58d13610-a056-4f77-a505-818af45398d2",
   "metadata": {},
   "source": [
    "## Exercise 4.6"
   ]
  },
  {
   "cell_type": "code",
   "execution_count": 22,
   "id": "35e92cf7-4341-4e8e-8612-ee5626291af0",
   "metadata": {
    "tags": []
   },
   "outputs": [],
   "source": [
    "my_lambda = lambda x: (x>=10 and x<=20)"
   ]
  },
  {
   "cell_type": "code",
   "execution_count": 25,
   "id": "3624f6b5-5dc1-43f7-9237-2f6beb9da968",
   "metadata": {
    "tags": []
   },
   "outputs": [
    {
     "data": {
      "text/plain": [
       "False"
      ]
     },
     "execution_count": 25,
     "metadata": {},
     "output_type": "execute_result"
    }
   ],
   "source": [
    "my_lambda(8)"
   ]
  },
  {
   "cell_type": "markdown",
   "id": "47ac7064-e3e1-40e1-bcfb-a6223f1ab5ad",
   "metadata": {},
   "source": [
    "## Exercise 4.9"
   ]
  },
  {
   "cell_type": "code",
   "execution_count": 30,
   "id": "333e81f2-2290-42c5-b349-93181b005c41",
   "metadata": {
    "tags": []
   },
   "outputs": [],
   "source": [
    "c2f = lambda c: (1.8*c)+32"
   ]
  },
  {
   "cell_type": "code",
   "execution_count": 31,
   "id": "be3f781b-f0b1-4c51-94d0-e9efe94a3cd7",
   "metadata": {
    "tags": []
   },
   "outputs": [],
   "source": [
    "f2c = lambda f: (f-32)/1.8"
   ]
  },
  {
   "cell_type": "code",
   "execution_count": 34,
   "id": "9d9b5acb-9f5f-4035-92c8-fc66e0777548",
   "metadata": {
    "tags": []
   },
   "outputs": [],
   "source": [
    "t2t = lambda degree, scale: round(c2f(degree),0) if scale == \"c\" else round(f2c(degree),0)"
   ]
  },
  {
   "cell_type": "code",
   "execution_count": 35,
   "id": "91d8a60e-7376-4534-befe-a87e5ac3f95f",
   "metadata": {
    "tags": []
   },
   "outputs": [
    {
     "data": {
      "text/plain": [
       "113.0"
      ]
     },
     "execution_count": 35,
     "metadata": {},
     "output_type": "execute_result"
    }
   ],
   "source": [
    "t2t(45,'c')"
   ]
  },
  {
   "cell_type": "code",
   "execution_count": 37,
   "id": "3424c37b-5c3f-48dc-890e-88858decefc4",
   "metadata": {
    "tags": []
   },
   "outputs": [],
   "source": [
    "targets = {\n",
    "    'f':c2f,\n",
    "    'c':f2c\n",
    "}"
   ]
  },
  {
   "cell_type": "code",
   "execution_count": 38,
   "id": "e993691a-4874-4fbe-84e1-4780f38fa515",
   "metadata": {
    "tags": []
   },
   "outputs": [],
   "source": [
    "t2t2 = lambda tval, target: round(targets[target](tval))"
   ]
  },
  {
   "cell_type": "code",
   "execution_count": 39,
   "id": "612f34bf-1065-48dd-b451-63b62a8c8fdf",
   "metadata": {
    "tags": []
   },
   "outputs": [
    {
     "data": {
      "text/plain": [
       "113"
      ]
     },
     "execution_count": 39,
     "metadata": {},
     "output_type": "execute_result"
    }
   ],
   "source": [
    "t2t2(45,'f')"
   ]
  },
  {
   "cell_type": "code",
   "execution_count": null,
   "id": "2d31db2c-22a3-4fbd-8d80-aa79d0d1d4fe",
   "metadata": {},
   "outputs": [],
   "source": []
  }
 ],
 "metadata": {
  "kernelspec": {
   "display_name": "Python 3 (ipykernel)",
   "language": "python",
   "name": "python3"
  },
  "language_info": {
   "codemirror_mode": {
    "name": "ipython",
    "version": 3
   },
   "file_extension": ".py",
   "mimetype": "text/x-python",
   "name": "python",
   "nbconvert_exporter": "python",
   "pygments_lexer": "ipython3",
   "version": "3.10.9"
  }
 },
 "nbformat": 4,
 "nbformat_minor": 5
}
