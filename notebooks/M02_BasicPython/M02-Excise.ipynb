{
 "cells": [
  {
   "cell_type": "markdown",
   "id": "e8bbcbe8-18b9-4046-bc44-93e37b557edb",
   "metadata": {},
   "source": [
    "## Exercise 2.1"
   ]
  },
  {
   "cell_type": "code",
   "execution_count": 9,
   "id": "a7b12405-8f81-4af1-babe-9c4dd6d82746",
   "metadata": {
    "tags": []
   },
   "outputs": [
    {
     "data": {
      "text/plain": [
       "'hello'"
      ]
     },
     "execution_count": 9,
     "metadata": {},
     "output_type": "execute_result"
    }
   ],
   "source": [
    "string = \"hello\""
   ]
  },
  {
   "cell_type": "code",
   "execution_count": 19,
   "id": "e4d4de05-3296-4787-a58b-8db30dbdaa02",
   "metadata": {
    "tags": []
   },
   "outputs": [
    {
     "name": "stdout",
     "output_type": "stream",
     "text": [
      "hel\n",
      "llo\n"
     ]
    }
   ],
   "source": [
    "print(string[0:3])\n",
    "print(string[-3:])"
   ]
  },
  {
   "cell_type": "markdown",
   "id": "d6b69be6-b082-49af-8d6b-e5820539117a",
   "metadata": {
    "tags": []
   },
   "source": [
    "## Exercise 2.2"
   ]
  },
  {
   "cell_type": "code",
   "execution_count": 24,
   "id": "2d975c80-4fc9-4fc1-ba06-ffe8f430ca48",
   "metadata": {
    "tags": []
   },
   "outputs": [
    {
     "name": "stdout",
     "output_type": "stream",
     "text": [
      "['first', 'second', 'third']\n"
     ]
    }
   ],
   "source": [
    "list1 = []\n",
    "list1.append('first')\n",
    "list1.append('second')\n",
    "list1.append('third')\n",
    "print(list1)"
   ]
  },
  {
   "cell_type": "code",
   "execution_count": 25,
   "id": "955d6297-a33d-4e74-a6b2-c12aa25dcc7d",
   "metadata": {
    "tags": []
   },
   "outputs": [
    {
     "data": {
      "text/plain": [
       "'second'"
      ]
     },
     "execution_count": 25,
     "metadata": {},
     "output_type": "execute_result"
    }
   ],
   "source": [
    "list1[1]"
   ]
  },
  {
   "cell_type": "markdown",
   "id": "414c0cc3-36d4-474c-b8c3-9c250513564a",
   "metadata": {
    "tags": []
   },
   "source": [
    "## Exercise 2.3"
   ]
  },
  {
   "cell_type": "code",
   "execution_count": 31,
   "id": "904ac7e7-e6a5-40b5-9973-5a8b0cea55bd",
   "metadata": {
    "tags": []
   },
   "outputs": [
    {
     "data": {
      "text/plain": [
       "(1, 2, 3)"
      ]
     },
     "execution_count": 31,
     "metadata": {},
     "output_type": "execute_result"
    }
   ],
   "source": [
    "tuple1 = (1,2,3)\n",
    "tuple1"
   ]
  },
  {
   "cell_type": "code",
   "execution_count": 32,
   "id": "0c867793-65d7-4bd0-baf6-25b6ea3654ba",
   "metadata": {
    "tags": []
   },
   "outputs": [
    {
     "ename": "AttributeError",
     "evalue": "'tuple' object has no attribute 'append'",
     "output_type": "error",
     "traceback": [
      "\u001b[1;31m---------------------------------------------------------------------------\u001b[0m",
      "\u001b[1;31mAttributeError\u001b[0m                            Traceback (most recent call last)",
      "Cell \u001b[1;32mIn[32], line 1\u001b[0m\n\u001b[1;32m----> 1\u001b[0m \u001b[43mtuple1\u001b[49m\u001b[38;5;241;43m.\u001b[39;49m\u001b[43mappend\u001b[49m(\u001b[38;5;241m4\u001b[39m)\n",
      "\u001b[1;31mAttributeError\u001b[0m: 'tuple' object has no attribute 'append'"
     ]
    }
   ],
   "source": [
    "tuple1.append(4)"
   ]
  },
  {
   "cell_type": "markdown",
   "id": "6c6665e5-eda5-42e6-a153-33a7a2ecc6f2",
   "metadata": {
    "tags": []
   },
   "source": [
    "## Exercise 2.4"
   ]
  },
  {
   "cell_type": "code",
   "execution_count": 36,
   "id": "1d11caec-efc8-4f4c-9a36-0c7c070a45b5",
   "metadata": {
    "tags": []
   },
   "outputs": [
    {
     "data": {
      "text/plain": [
       "True"
      ]
     },
     "execution_count": 36,
     "metadata": {},
     "output_type": "execute_result"
    }
   ],
   "source": [
    "string1 = \"ERROR\"\n",
    "levels = {\"WARN\", \"ERROR\", \"CRITICAL\"}\n",
    "\n",
    "string1 in levels"
   ]
  },
  {
   "cell_type": "markdown",
   "id": "f2600d1e-3fbd-4b1f-b69c-9805f8bd434f",
   "metadata": {},
   "source": [
    "## Exercise 2.5"
   ]
  },
  {
   "cell_type": "code",
   "execution_count": 48,
   "id": "b6c13253-8cc9-48d8-b587-3ca279156b6e",
   "metadata": {
    "tags": []
   },
   "outputs": [
    {
     "data": {
      "text/plain": [
       "1"
      ]
     },
     "execution_count": 48,
     "metadata": {},
     "output_type": "execute_result"
    }
   ],
   "source": [
    "dict1 = {\n",
    "    \"item1\":1, \n",
    "    \"item2\":2, \n",
    "    \"item3\":3\n",
    "}\n",
    "dict1.get(\"item1\")"
   ]
  },
  {
   "cell_type": "code",
   "execution_count": 49,
   "id": "584594eb-b464-434f-9359-74d3e57948d0",
   "metadata": {
    "tags": []
   },
   "outputs": [
    {
     "name": "stdout",
     "output_type": "stream",
     "text": [
      "['item1', 'item2', 'item3']\n"
     ]
    }
   ],
   "source": [
    "mycoollist= list(dict1.keys())\n",
    "print(mycoollist)"
   ]
  },
  {
   "cell_type": "code",
   "execution_count": 51,
   "id": "6963a358-390f-43d6-a773-a5c1bf4061b1",
   "metadata": {
    "tags": []
   },
   "outputs": [
    {
     "name": "stdout",
     "output_type": "stream",
     "text": [
      "items: ['item1', 'item2', 'item3']\n"
     ]
    }
   ],
   "source": [
    "print('items:', mycoollist)"
   ]
  },
  {
   "cell_type": "markdown",
   "id": "9353f2f3-30ea-41a5-b350-366d15f88ffc",
   "metadata": {},
   "source": [
    "## Exercise 2.6"
   ]
  },
  {
   "cell_type": "code",
   "execution_count": 61,
   "id": "89f68aa2-774f-4876-b13c-39821d2a484a",
   "metadata": {
    "tags": []
   },
   "outputs": [
    {
     "data": {
      "text/plain": [
       "['brown', 'dogs', 'fox', 'jumped', 'lazy', 'over', 'quick', 'the', 'the']"
      ]
     },
     "execution_count": 61,
     "metadata": {},
     "output_type": "execute_result"
    }
   ],
   "source": [
    "string1 = \"The quick brown fox jumped over the lazy dogs.\"\n",
    "string1 = string1.replace('.','')\n",
    "sorted(string1.lower().split(' '))"
   ]
  },
  {
   "cell_type": "code",
   "execution_count": null,
   "id": "e4b3c0ab-5a11-44b8-b9b4-c90242312b61",
   "metadata": {},
   "outputs": [],
   "source": []
  }
 ],
 "metadata": {
  "kernelspec": {
   "display_name": "Python 3 (ipykernel)",
   "language": "python",
   "name": "python3"
  },
  "language_info": {
   "codemirror_mode": {
    "name": "ipython",
    "version": 3
   },
   "file_extension": ".py",
   "mimetype": "text/x-python",
   "name": "python",
   "nbconvert_exporter": "python",
   "pygments_lexer": "ipython3",
   "version": "3.10.9"
  },
  "toc-autonumbering": false,
  "toc-showmarkdowntxt": true
 },
 "nbformat": 4,
 "nbformat_minor": 5
}
