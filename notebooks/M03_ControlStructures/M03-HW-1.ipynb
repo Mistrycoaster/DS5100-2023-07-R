{
 "cells": [
  {
   "cell_type": "markdown",
   "id": "d31b93a7-f221-4338-b044-734458a05492",
   "metadata": {
    "tags": []
   },
   "source": [
    "# Metadata\n",
    "\n",
    "```yaml\n",
    "Course:   DS 5100\n",
    "Term:     Summer 2023\n",
    "Module:   M03 Homework\n",
    "Author:   R.C. Alvarado\n",
    "Date:     7 July 2023\n",
    "```"
   ]
  },
  {
   "cell_type": "markdown",
   "id": "91c2bea0-57b5-4e2d-b7c3-bae818c949cc",
   "metadata": {},
   "source": [
    "# Student Info\n",
    "\n",
    "* Name: Brandon Mistry\n",
    "* Net ID: fqd2hj\n",
    "* URL of this file in GitHub: https://github.com/Mistrycoaster/DS5100-2023-07-R/blob/985793604b29c33abb9b6d24aea92514ca836396/notebooks/M03_ControlStructures/M03-HW-1.ipynb"
   ]
  },
  {
   "cell_type": "markdown",
   "id": "cf3260a5-5781-4529-ba47-8b22f3ab9944",
   "metadata": {
    "jp-MarkdownHeadingCollapsed": true,
    "tags": []
   },
   "source": [
    "# Instructions\n",
    "\n",
    "In your **private course repo on Rivanna**, write a Jupyter notebook running Python that performs the numbered tasks below. \n",
    "\n",
    "For each task, create a code cell to perform the task.\n",
    "\n",
    "Save your notebook in the `M03` directory as `hw03.ipynb`. \n",
    "\n",
    "Add and commit these files to your repo. \n",
    "\n",
    "Then push your commits to your repo on GitHib.\n",
    "\n",
    "Be sure to fill out the **Student Info** block above.\n",
    "\n",
    "To submit your homework, save the notebook as a PDF and upload it to GradeScope, following the instructions."
   ]
  },
  {
   "cell_type": "markdown",
   "id": "299969ff-8b91-4390-8168-5b5b7b21991b",
   "metadata": {},
   "source": [
    "# Task 1\n",
    "\n",
    "(6 points)\n",
    "\n",
    "Using the **for** loop and **if** statement control structures, \n",
    "write a script that generates the integers from $1$ to $100$ and does the following things:\n",
    "\n",
    "* If $3$ is a factor of the number, print `Wahoo`.\n",
    "* If $5$ is a factor of the number, print `wah!`.\n",
    "* If the number meets none of the above conditions, print nothing, not even a line break.\n",
    "* If the number meets both of the conditions, print the strings on the same line with no space between them.\n",
    "* Make sure that the line printed for each iteration in which a condition is met ends with a line break.\n",
    "* When the loop is finished, print the number of times either conidtion was met, i.e. the number of lines that were printed.\n",
    "\n",
    "Hint: You may not need to use **elif** and **else** to accomplish these tasks."
   ]
  },
  {
   "cell_type": "code",
   "execution_count": 21,
   "id": "73e6b63d-38ca-488a-9a2a-009c150d8dbd",
   "metadata": {
    "tags": []
   },
   "outputs": [
    {
     "name": "stdout",
     "output_type": "stream",
     "text": [
      "3 Wahoo\n",
      "________________________________________________________________________________\n",
      "5 wah!\n",
      "________________________________________________________________________________\n",
      "6 Wahoo\n",
      "________________________________________________________________________________\n",
      "9 Wahoo\n",
      "________________________________________________________________________________\n",
      "10 wah!\n",
      "________________________________________________________________________________\n",
      "12 Wahoo\n",
      "________________________________________________________________________________\n",
      "15 Wahoowah!\n",
      "________________________________________________________________________________\n",
      "18 Wahoo\n",
      "________________________________________________________________________________\n",
      "20 wah!\n",
      "________________________________________________________________________________\n",
      "21 Wahoo\n",
      "________________________________________________________________________________\n",
      "24 Wahoo\n",
      "________________________________________________________________________________\n",
      "25 wah!\n",
      "________________________________________________________________________________\n",
      "27 Wahoo\n",
      "________________________________________________________________________________\n",
      "30 Wahoowah!\n",
      "________________________________________________________________________________\n",
      "33 Wahoo\n",
      "________________________________________________________________________________\n",
      "35 wah!\n",
      "________________________________________________________________________________\n",
      "36 Wahoo\n",
      "________________________________________________________________________________\n",
      "39 Wahoo\n",
      "________________________________________________________________________________\n",
      "40 wah!\n",
      "________________________________________________________________________________\n",
      "42 Wahoo\n",
      "________________________________________________________________________________\n",
      "45 Wahoowah!\n",
      "________________________________________________________________________________\n",
      "48 Wahoo\n",
      "________________________________________________________________________________\n",
      "50 wah!\n",
      "________________________________________________________________________________\n",
      "51 Wahoo\n",
      "________________________________________________________________________________\n",
      "54 Wahoo\n",
      "________________________________________________________________________________\n",
      "55 wah!\n",
      "________________________________________________________________________________\n",
      "57 Wahoo\n",
      "________________________________________________________________________________\n",
      "60 Wahoowah!\n",
      "________________________________________________________________________________\n",
      "63 Wahoo\n",
      "________________________________________________________________________________\n",
      "65 wah!\n",
      "________________________________________________________________________________\n",
      "66 Wahoo\n",
      "________________________________________________________________________________\n",
      "69 Wahoo\n",
      "________________________________________________________________________________\n",
      "70 wah!\n",
      "________________________________________________________________________________\n",
      "72 Wahoo\n",
      "________________________________________________________________________________\n",
      "75 Wahoowah!\n",
      "________________________________________________________________________________\n",
      "78 Wahoo\n",
      "________________________________________________________________________________\n",
      "80 wah!\n",
      "________________________________________________________________________________\n",
      "81 Wahoo\n",
      "________________________________________________________________________________\n",
      "84 Wahoo\n",
      "________________________________________________________________________________\n",
      "85 wah!\n",
      "________________________________________________________________________________\n",
      "87 Wahoo\n",
      "________________________________________________________________________________\n",
      "90 Wahoowah!\n",
      "________________________________________________________________________________\n",
      "93 Wahoo\n",
      "________________________________________________________________________________\n",
      "95 wah!\n",
      "________________________________________________________________________________\n",
      "96 Wahoo\n",
      "________________________________________________________________________________\n",
      "99 Wahoo\n",
      "________________________________________________________________________________\n",
      "100 wah!\n",
      "________________________________________________________________________________\n"
     ]
    },
    {
     "data": {
      "text/plain": [
       "47"
      ]
     },
     "execution_count": 21,
     "metadata": {},
     "output_type": "execute_result"
    }
   ],
   "source": [
    "count = 0\n",
    "\n",
    "for n in range(1,101):\n",
    "    if (n % 3 == 0) and (n % 5 == 0):\n",
    "        print(str(n) +\" \"+ \"Wahoowah!\")\n",
    "        print(\"_\"*80)\n",
    "        count += 1\n",
    "    elif n % 3 == 0:\n",
    "        print(str(n) + \" \" + \"Wahoo\")\n",
    "        print(\"_\"*80)\n",
    "        count += 1\n",
    "    elif n % 5 == 0:\n",
    "        print(str(n) + \" \" + \"wah!\")\n",
    "        print(\"_\"*80)\n",
    "        count += 1\n",
    "count"
   ]
  },
  {
   "cell_type": "markdown",
   "id": "eefd829e-9d2d-44b1-9268-4aa605c4e40d",
   "metadata": {},
   "source": [
    "# Task 2\n",
    "\n",
    "(3 points)\n",
    "\n",
    "Rewrite the `for` loop as a `while` loop. \n",
    "\n",
    "This time, only print lines where both conditions are met. \n",
    "\n",
    "Include a final line which prints the number of times both conditions are met."
   ]
  },
  {
   "cell_type": "code",
   "execution_count": 22,
   "id": "704989f4-0d1b-457e-9179-6c080aa83f9d",
   "metadata": {
    "tags": []
   },
   "outputs": [
    {
     "name": "stdout",
     "output_type": "stream",
     "text": [
      "15 Wahoowah!\n",
      "________________________________________________________________________________\n",
      "30 Wahoowah!\n",
      "________________________________________________________________________________\n",
      "45 Wahoowah!\n",
      "________________________________________________________________________________\n",
      "60 Wahoowah!\n",
      "________________________________________________________________________________\n",
      "75 Wahoowah!\n",
      "________________________________________________________________________________\n",
      "90 Wahoowah!\n",
      "________________________________________________________________________________\n"
     ]
    },
    {
     "data": {
      "text/plain": [
       "6"
      ]
     },
     "execution_count": 22,
     "metadata": {},
     "output_type": "execute_result"
    }
   ],
   "source": [
    "count = 0\n",
    "n = 1 \n",
    "while n < 100:\n",
    "    if (n % 3 == 0) and (n % 5 == 0):\n",
    "        print(str(n) +\" \"+ \"Wahoowah!\")\n",
    "        print(\"_\"*80)\n",
    "        count += 1\n",
    "    n +=1\n",
    "count"
   ]
  },
  {
   "cell_type": "markdown",
   "id": "1004eae1-4cdf-46a2-9473-efe1528dfeef",
   "metadata": {},
   "source": [
    "# Task 3\n",
    "\n",
    "(3 points)\n",
    "\n",
    "Write a list comprehension that iterates through the integers from $1$ to $100$ and returns a list containing the sum of the boolean values of the two conditions described in Task 1."
   ]
  },
  {
   "cell_type": "code",
   "execution_count": 45,
   "id": "af38602c-1e6e-4de0-906a-5c1e5d780b49",
   "metadata": {
    "tags": []
   },
   "outputs": [
    {
     "data": {
      "text/plain": [
       "47"
      ]
     },
     "execution_count": 45,
     "metadata": {},
     "output_type": "execute_result"
    }
   ],
   "source": [
    "len([n for n in range(1,101) if (n % 5 == 0) or (n % 3 == 0)])"
   ]
  }
 ],
 "metadata": {
  "kernelspec": {
   "display_name": "Python 3 (ipykernel)",
   "language": "python",
   "name": "python3"
  },
  "language_info": {
   "codemirror_mode": {
    "name": "ipython",
    "version": 3
   },
   "file_extension": ".py",
   "mimetype": "text/x-python",
   "name": "python",
   "nbconvert_exporter": "python",
   "pygments_lexer": "ipython3",
   "version": "3.10.9"
  },
  "widgets": {
   "application/vnd.jupyter.widget-state+json": {
    "state": {},
    "version_major": 2,
    "version_minor": 0
   }
  }
 },
 "nbformat": 4,
 "nbformat_minor": 5
}
