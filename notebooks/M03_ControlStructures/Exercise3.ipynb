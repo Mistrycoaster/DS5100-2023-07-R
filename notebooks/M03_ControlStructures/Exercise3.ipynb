{
 "cells": [
  {
   "cell_type": "markdown",
   "id": "135ffb26-f996-45b4-9785-8d34327c9852",
   "metadata": {},
   "source": [
    "## Exerise 3.1"
   ]
  },
  {
   "cell_type": "code",
   "execution_count": 32,
   "id": "2f3388b9-6868-4ea2-b1f4-76a08832acdc",
   "metadata": {
    "tags": []
   },
   "outputs": [
    {
     "name": "stdout",
     "output_type": "stream",
     "text": [
      "bucket 4\n"
     ]
    }
   ],
   "source": [
    "val = 5\n",
    "\n",
    "if -10 < val < -5:\n",
    "    print('bucket 1')\n",
    "elif -5 <= val < -2:\n",
    "    print('bucket 2')\n",
    "elif val == -2:\n",
    "    print('bucket 3')\n",
    "else:\n",
    "    print('bucket 4')"
   ]
  },
  {
   "cell_type": "markdown",
   "id": "829fbcfe-5782-43b9-98da-34994fdd1c29",
   "metadata": {},
   "source": [
    "## Exercise 3.2"
   ]
  },
  {
   "cell_type": "code",
   "execution_count": 2,
   "id": "65ea1727-51e4-49f7-a9f7-b0720c0901f3",
   "metadata": {
    "tags": []
   },
   "outputs": [],
   "source": [
    "xx = [-2,8,0,5,6]"
   ]
  },
  {
   "cell_type": "code",
   "execution_count": 4,
   "id": "5983a693-9541-4feb-8934-2ddc076378aa",
   "metadata": {
    "tags": []
   },
   "outputs": [],
   "source": [
    "max_val = max(xx)"
   ]
  },
  {
   "cell_type": "code",
   "execution_count": 5,
   "id": "32f3b3d4-987e-4983-a273-60e7cf5222d0",
   "metadata": {
    "tags": []
   },
   "outputs": [
    {
     "name": "stdout",
     "output_type": "stream",
     "text": [
      "-2\n",
      "max_val\n",
      "0\n",
      "5\n",
      "6\n"
     ]
    }
   ],
   "source": [
    "for x in xx:\n",
    "    if x < max_val:\n",
    "        print(x)\n",
    "    else:\n",
    "        print(\"max_val\")"
   ]
  },
  {
   "cell_type": "markdown",
   "id": "1bf36210-dd66-4256-b75d-e8458551ac91",
   "metadata": {},
   "source": [
    "## Exercise 3.3"
   ]
  },
  {
   "cell_type": "code",
   "execution_count": 6,
   "id": "7a1da92c-d5c8-44c8-ad94-53e7cd6d6968",
   "metadata": {
    "tags": []
   },
   "outputs": [],
   "source": [
    "it = 0\n",
    "max_iter = 100"
   ]
  },
  {
   "cell_type": "code",
   "execution_count": 7,
   "id": "d848d91e-760f-4362-9427-41e9263c7c32",
   "metadata": {
    "tags": []
   },
   "outputs": [
    {
     "name": "stdout",
     "output_type": "stream",
     "text": [
      "0\n",
      "10\n",
      "20\n",
      "30\n",
      "40\n",
      "50\n",
      "60\n",
      "70\n",
      "80\n",
      "90\n"
     ]
    }
   ],
   "source": [
    "while it < max_iter:\n",
    "    if (it == 0) or (it % 10 ==0):\n",
    "        print(it)\n",
    "    it += 1"
   ]
  },
  {
   "cell_type": "markdown",
   "id": "cbc4944a-9c3c-4b93-8854-5aaa4b1590ed",
   "metadata": {},
   "source": [
    "## Exercise 3.4"
   ]
  },
  {
   "cell_type": "code",
   "execution_count": 17,
   "id": "583596c1-ea54-48fc-b3ee-b75aead9cb0f",
   "metadata": {
    "tags": []
   },
   "outputs": [
    {
     "name": "stdout",
     "output_type": "stream",
     "text": [
      "this\n",
      "is\n",
      "my\n",
      "string\n"
     ]
    }
   ],
   "source": [
    "list1 = [\"This\",\"Is\",\"My\",\"String\"]\n",
    "\n",
    "for string in list1:\n",
    "    print(string.lower())"
   ]
  },
  {
   "cell_type": "markdown",
   "id": "fb8f9d7b-eb14-4d5f-a744-87d0e7fa8b43",
   "metadata": {},
   "source": [
    "## Exercise 3.5"
   ]
  },
  {
   "cell_type": "code",
   "execution_count": 20,
   "id": "6d197463-d084-4d55-8e16-f989513cf580",
   "metadata": {
    "tags": []
   },
   "outputs": [
    {
     "name": "stdout",
     "output_type": "stream",
     "text": [
      "This\n",
      "Is\n",
      "My\n",
      "String\n"
     ]
    }
   ],
   "source": [
    "myint = iter(list1)\n",
    "print(next(myint))\n",
    "print(next(myint))\n",
    "print(next(myint))\n",
    "print(next(myint))"
   ]
  },
  {
   "cell_type": "markdown",
   "id": "9e4184a9-194f-45f7-bda7-11bc48be18f5",
   "metadata": {},
   "source": [
    "## Exercise 3.6"
   ]
  },
  {
   "cell_type": "code",
   "execution_count": 21,
   "id": "a8f7a36e-c23a-4be9-a30f-dc5e0e7523a5",
   "metadata": {
    "tags": []
   },
   "outputs": [
    {
     "name": "stdout",
     "output_type": "stream",
     "text": [
      "Grand Ledge 48837\n",
      "Farmington Hills 48335\n"
     ]
    }
   ],
   "source": [
    "dict1 = {\"Grand Ledge\":48837,\"Farmington Hills\":48335}\n",
    "\n",
    "for cit, zi in dict1.items():\n",
    "    print(cit, zi)\n",
    "    "
   ]
  },
  {
   "cell_type": "markdown",
   "id": "cf43152d-52a8-4d68-ae9c-4cd82d0a2d8c",
   "metadata": {},
   "source": [
    "## Exercise 3.7"
   ]
  },
  {
   "cell_type": "code",
   "execution_count": 23,
   "id": "be64f2f4-f144-4579-9f2b-0fc8cac9f32c",
   "metadata": {
    "tags": []
   },
   "outputs": [
    {
     "name": "stdout",
     "output_type": "stream",
     "text": [
      "Grand Ledge 48335\n",
      "Farmington Hills 48335\n"
     ]
    }
   ],
   "source": [
    "for cit in dict1.keys():\n",
    "    print(cit, zi)"
   ]
  },
  {
   "cell_type": "markdown",
   "id": "58bad0f3-ede3-4c1b-90ac-d4f5d6f53f0f",
   "metadata": {},
   "source": [
    "## Exercise 3.8"
   ]
  },
  {
   "cell_type": "code",
   "execution_count": 25,
   "id": "f15c3017-e76a-4554-884b-3efe000b2399",
   "metadata": {
    "tags": []
   },
   "outputs": [
    {
     "data": {
      "text/plain": [
       "[1, 8, 27, 64, 125, 216, 343, 512, 729, 1000]"
      ]
     },
     "execution_count": 25,
     "metadata": {},
     "output_type": "execute_result"
    }
   ],
   "source": [
    "list2 = [1,2,3,4,5,6,7,8,9,10]\n",
    "cube_list = []\n",
    "\n",
    "for cube in list2:\n",
    "    cube_list.append(cube**3)\n",
    "    \n",
    "cube_list"
   ]
  },
  {
   "cell_type": "markdown",
   "id": "c7df92a9-4718-47f8-82d3-5f928c296e8c",
   "metadata": {},
   "source": [
    "## Exercise 3.9"
   ]
  },
  {
   "cell_type": "code",
   "execution_count": 29,
   "id": "38afb889-1344-4b49-a5b3-79b2af90fe38",
   "metadata": {
    "tags": []
   },
   "outputs": [
    {
     "data": {
      "text/plain": [
       "['1', '2', '3', '11']"
      ]
     },
     "execution_count": 29,
     "metadata": {},
     "output_type": "execute_result"
    }
   ],
   "source": [
    "list3 = [\"1\",\"2\",\"3\",\"seven\",\"nine\",\"ten\",\"11\"]\n",
    "numbers = [st for st in list3 if st.isdigit()]\n",
    "numbers"
   ]
  }
 ],
 "metadata": {
  "kernelspec": {
   "display_name": "Python 3 (ipykernel)",
   "language": "python",
   "name": "python3"
  },
  "language_info": {
   "codemirror_mode": {
    "name": "ipython",
    "version": 3
   },
   "file_extension": ".py",
   "mimetype": "text/x-python",
   "name": "python",
   "nbconvert_exporter": "python",
   "pygments_lexer": "ipython3",
   "version": "3.10.9"
  }
 },
 "nbformat": 4,
 "nbformat_minor": 5
}
